{
  "nbformat": 4,
  "nbformat_minor": 0,
  "metadata": {
    "colab": {
      "provenance": [],
      "authorship_tag": "ABX9TyM7nKXzzWT5jS4yM/qzIkNx",
      "include_colab_link": true
    },
    "kernelspec": {
      "name": "python3",
      "display_name": "Python 3"
    },
    "language_info": {
      "name": "python"
    }
  },
  "cells": [
    {
      "cell_type": "markdown",
      "metadata": {
        "id": "view-in-github",
        "colab_type": "text"
      },
      "source": [
        "<a href=\"https://colab.research.google.com/github/lrys/nlp2/blob/main/Untitled3.ipynb\" target=\"_parent\"><img src=\"https://colab.research.google.com/assets/colab-badge.svg\" alt=\"Open In Colab\"/></a>"
      ]
    },
    {
      "cell_type": "code",
      "execution_count": null,
      "metadata": {
        "id": "42e7oO3O-Gd7"
      },
      "outputs": [],
      "source": [
        "import csv\n",
        "import random\n",
        "import torch\n",
        "\n",
        "with open('/kaggle/input/task2train/train.tsv') as f:\n",
        "    tsvreader = csv.reader(f, delimiter = '\\t')\n",
        "    temp = list(tsvreader)\n",
        "\n",
        "with open('/kaggle/input/glove6b50dtxt/glove.6B.50d.txt', 'rb') as f:\n",
        "    lines = f.readlines()\n",
        "\n",
        "#用GloVe创建词典\n",
        "trained_dict = dict()\n",
        "n = len(lines)\n",
        "for i in range(n):\n",
        "    line = lines[i].split()  #将单词与参数分割，以数组形式存储\n",
        "    trained_dict[line[0].decode('utf-8').upper()] = [float(line[j]) for j in range(1, 51)]\n",
        "    #每一句话的数组第一个为单词，与之对应的是参数数组\n",
        "\n",
        "#初始化\n",
        "iter_times = 50\n",
        "alpha = 0.001\n",
        "\n",
        "#程序开始\n",
        "data = temp[1:]\n",
        "batch_size = 500\n",
        "\n",
        "#随机初始化\n",
        "random.seed(2021)\n",
        "random_embedding = Random_embedding(data = data)\n",
        "random_embedding.get_words() #找到所有单词并标记ID\n",
        "random_embedding.get_id()    #找到每个句子拥有的单词ID\n",
        "\n",
        "#预训练模型初始化\n",
        "random.seed(2021)\n",
        "glove_embedding = Glove_embedding(data = data, trained_dict = trained_dict)\n",
        "glove_embedding.get_words()  #找到所有单词并标记ID\n",
        "glove_embedding.get_id()     #找到每个句子拥有的单词ID\n",
        "\n",
        "NN_embedding_plot(random_embedding, glove_embedding, alpha, batch_size, iter_times)\n"
      ]
    }
  ]
}